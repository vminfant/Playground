{
 "cells": [
  {
   "cell_type": "code",
   "execution_count": 48,
   "metadata": {},
   "outputs": [],
   "source": [
    "import math"
   ]
  },
  {
   "cell_type": "code",
   "execution_count": 27,
   "metadata": {},
   "outputs": [],
   "source": [
    "def bn_probability_x(n,p,x):\n",
    "    \n",
    "    n_fact = math.factorial(n)\n",
    "    x_fact = math.factorial(x)\n",
    "    n_x_fact = math.factorial(n-x)\n",
    "    p_prob = pow(p,x)     \n",
    "    np_prob = pow((1-p),(n-x))\n",
    "    \n",
    "    return ((n_fact/(x_fact*n_x_fact)) * p_prob * np_prob)"
   ]
  },
  {
   "cell_type": "code",
   "execution_count": 54,
   "metadata": {},
   "outputs": [
    {
     "name": "stdout",
     "output_type": "stream",
     "text": [
      "{0: 0.421875, 1: 0.421875, 2: 0.140625, 3: 0.015625}\n"
     ]
    }
   ],
   "source": [
    "prob_x = {}\n",
    "for x in range(0,4):\n",
    "    prob_x[x] = prob(3,0.25,x)\n",
    "\n",
    "print(prob_x)"
   ]
  }
 ],
 "metadata": {
  "kernelspec": {
   "display_name": "Python 3",
   "language": "python",
   "name": "python3"
  },
  "language_info": {
   "codemirror_mode": {
    "name": "ipython",
    "version": 3
   },
   "file_extension": ".py",
   "mimetype": "text/x-python",
   "name": "python",
   "nbconvert_exporter": "python",
   "pygments_lexer": "ipython3",
   "version": "3.6.3"
  }
 },
 "nbformat": 4,
 "nbformat_minor": 2
}

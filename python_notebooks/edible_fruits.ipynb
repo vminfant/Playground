{
 "cells": [
  {
   "cell_type": "code",
   "execution_count": 337,
   "metadata": {},
   "outputs": [],
   "source": [
    "import requests \n",
    "import bs4\n",
    "import pandas as pd\n",
    "import numpy as np\n",
    "import json\n",
    "import matplotlib \n",
    "import matplotlib.pyplot as plt\n",
    "from wordcloud import WordCloud, STOPWORDS"
   ]
  },
  {
   "cell_type": "code",
   "execution_count": 338,
   "metadata": {},
   "outputs": [],
   "source": [
    "EDIBLE_FRUITS_URL = 'https://en.wikipedia.org/wiki/List_of_culinary_fruits'\n",
    "WIKIPEDIA_API_URL = 'https://en.wikipedia.org/w/api.php'"
   ]
  },
  {
   "cell_type": "code",
   "execution_count": 339,
   "metadata": {},
   "outputs": [
    {
     "name": "stdout",
     "output_type": "stream",
     "text": [
      "Get Successfull\n"
     ]
    }
   ],
   "source": [
    "response = requests.get(EDIBLE_FRUITS_URL)\n",
    "if response.status_code == 200:\n",
    "    print (\"Get Successfull\")\n",
    "else:\n",
    "    print (\"Get Failed\")"
   ]
  },
  {
   "cell_type": "code",
   "execution_count": 340,
   "metadata": {},
   "outputs": [],
   "source": [
    "resp_soap = bs4.BeautifulSoup(response.text)"
   ]
  },
  {
   "cell_type": "code",
   "execution_count": 341,
   "metadata": {},
   "outputs": [
    {
     "data": {
      "text/plain": [
       "<title>List of culinary fruits - Wikipedia</title>"
      ]
     },
     "execution_count": 341,
     "metadata": {},
     "output_type": "execute_result"
    }
   ],
   "source": [
    "resp_soap.title"
   ]
  },
  {
   "cell_type": "markdown",
   "metadata": {},
   "source": [
    "###### Header of the first table"
   ]
  },
  {
   "cell_type": "code",
   "execution_count": 342,
   "metadata": {},
   "outputs": [
    {
     "data": {
      "text/plain": [
       "<tr>\n",
       "<th><a href=\"/wiki/Common_name\" title=\"Common name\">Common name</a>\n",
       "</th>\n",
       "<th><a href=\"/wiki/Binomial_nomenclature\" title=\"Binomial nomenclature\">Species name</a>\n",
       "</th>\n",
       "<th><a href=\"/wiki/Cultivar\" title=\"Cultivar\">Cultivar list</a>\n",
       "</th></tr>"
      ]
     },
     "execution_count": 342,
     "metadata": {},
     "output_type": "execute_result"
    }
   ],
   "source": [
    "resp_soap.table.tbody.tr"
   ]
  },
  {
   "cell_type": "code",
   "execution_count": 343,
   "metadata": {},
   "outputs": [],
   "source": [
    "def add_to_dictionary(table_dict):\n",
    "    \n",
    "    if (row_list[0]) in table_dict:\n",
    "        table_dict[row_list[0]][1] = pos_dict[row_list[0]][1] + \", \" + row_list[2]\n",
    "    else:\n",
    "        table_dict[row_list[0]] = [row_list[1],row_list[2]]"
   ]
  },
  {
   "cell_type": "code",
   "execution_count": 344,
   "metadata": {},
   "outputs": [],
   "source": [
    "def process_row(row,ncolumns=0):\n",
    "    \n",
    "    row_values = []\n",
    "    col_count = 0\n",
    "    for column in row:\n",
    "        if isinstance(column,bs4.element.Tag): # Avoid processing NavigableString - Mostly newline char      \n",
    "            col_count += 1\n",
    "            row_values.append(column.get_text(strip=True))\n",
    "            \n",
    "            if col_count == 1:\n",
    "                if column.find('a'):\n",
    "                    row_values.append(column.a.get_attribute_list('href')[0])\n",
    "                else:\n",
    "                    row_values.append('')\n",
    "            \n",
    "        if ncolumns > 0 and col_count >= ncolumns:\n",
    "            break\n",
    "            \n",
    "    return row_values"
   ]
  },
  {
   "cell_type": "code",
   "execution_count": 345,
   "metadata": {},
   "outputs": [],
   "source": [
    "def process_table(soap_msg_table,ncolumns=0):\n",
    "    \n",
    "    row_list = []\n",
    "    for row in soap_msg_table:\n",
    "        \n",
    "        if isinstance(row,bs4.element.Tag): # Avoid processing NavigableString - Mostly newline char\n",
    "            row_list.append(process_row(row,ncolumns))\n",
    "            \n",
    "    #print (row_list)\n",
    "    return row_list"
   ]
  },
  {
   "cell_type": "code",
   "execution_count": 346,
   "metadata": {
    "scrolled": true
   },
   "outputs": [],
   "source": [
    "all_edible_fruits = pd.DataFrame()\n",
    "for table in resp_soap.find_all(\"table\"):\n",
    "    common_spices = pd.DataFrame(process_table(table.tbody,ncolumns=3))\n",
    "    header = common_spices.loc[0]\n",
    "    common_spices = common_spices[1:]\n",
    "    all_edible_fruits = all_edible_fruits.append(common_spices)\n",
    "    \n",
    "all_edible_fruits.columns = ['Common name','Page','Species name','Cultivar list']"
   ]
  },
  {
   "cell_type": "code",
   "execution_count": 347,
   "metadata": {},
   "outputs": [
    {
     "data": {
      "text/html": [
       "<div>\n",
       "<style scoped>\n",
       "    .dataframe tbody tr th:only-of-type {\n",
       "        vertical-align: middle;\n",
       "    }\n",
       "\n",
       "    .dataframe tbody tr th {\n",
       "        vertical-align: top;\n",
       "    }\n",
       "\n",
       "    .dataframe thead th {\n",
       "        text-align: right;\n",
       "    }\n",
       "</style>\n",
       "<table border=\"1\" class=\"dataframe\">\n",
       "  <thead>\n",
       "    <tr style=\"text-align: right;\">\n",
       "      <th></th>\n",
       "      <th>Common name</th>\n",
       "      <th>Page</th>\n",
       "      <th>Species name</th>\n",
       "      <th>Cultivar list</th>\n",
       "    </tr>\n",
       "  </thead>\n",
       "  <tbody>\n",
       "    <tr>\n",
       "      <th>1</th>\n",
       "      <td>Apple</td>\n",
       "      <td>/wiki/Apple</td>\n",
       "      <td>Malus pumila</td>\n",
       "      <td>Apple cultivars</td>\n",
       "    </tr>\n",
       "    <tr>\n",
       "      <th>2</th>\n",
       "      <td>Chinese quince</td>\n",
       "      <td>/wiki/Chinese_quince</td>\n",
       "      <td>Pseudocydonia sinensis</td>\n",
       "      <td></td>\n",
       "    </tr>\n",
       "    <tr>\n",
       "      <th>3</th>\n",
       "      <td>Chokeberry</td>\n",
       "      <td>/wiki/Chokeberry</td>\n",
       "      <td>Aronia melanocarpa</td>\n",
       "      <td></td>\n",
       "    </tr>\n",
       "    <tr>\n",
       "      <th>4</th>\n",
       "      <td>Cocky apple</td>\n",
       "      <td>/wiki/Cocky_apple</td>\n",
       "      <td>Planchonia careya</td>\n",
       "      <td></td>\n",
       "    </tr>\n",
       "    <tr>\n",
       "      <th>5</th>\n",
       "      <td>Eastern mayhaw</td>\n",
       "      <td>/wiki/Crataegus_aestivalis</td>\n",
       "      <td>Crataegus aestivalis</td>\n",
       "      <td></td>\n",
       "    </tr>\n",
       "  </tbody>\n",
       "</table>\n",
       "</div>"
      ],
      "text/plain": [
       "      Common name                        Page            Species name  \\\n",
       "1           Apple                 /wiki/Apple            Malus pumila   \n",
       "2  Chinese quince        /wiki/Chinese_quince  Pseudocydonia sinensis   \n",
       "3      Chokeberry            /wiki/Chokeberry      Aronia melanocarpa   \n",
       "4     Cocky apple           /wiki/Cocky_apple       Planchonia careya   \n",
       "5  Eastern mayhaw  /wiki/Crataegus_aestivalis    Crataegus aestivalis   \n",
       "\n",
       "     Cultivar list  \n",
       "1  Apple cultivars  \n",
       "2                   \n",
       "3                   \n",
       "4                   \n",
       "5                   "
      ]
     },
     "execution_count": 347,
     "metadata": {},
     "output_type": "execute_result"
    }
   ],
   "source": [
    "all_edible_fruits.head()"
   ]
  },
  {
   "cell_type": "code",
   "execution_count": 348,
   "metadata": {},
   "outputs": [
    {
     "data": {
      "text/plain": [
       "(422, 4)"
      ]
     },
     "execution_count": 348,
     "metadata": {},
     "output_type": "execute_result"
    }
   ],
   "source": [
    "all_edible_fruits.shape"
   ]
  },
  {
   "cell_type": "code",
   "execution_count": 349,
   "metadata": {},
   "outputs": [
    {
     "data": {
      "text/html": [
       "<div>\n",
       "<style scoped>\n",
       "    .dataframe tbody tr th:only-of-type {\n",
       "        vertical-align: middle;\n",
       "    }\n",
       "\n",
       "    .dataframe tbody tr th {\n",
       "        vertical-align: top;\n",
       "    }\n",
       "\n",
       "    .dataframe thead th {\n",
       "        text-align: right;\n",
       "    }\n",
       "</style>\n",
       "<table border=\"1\" class=\"dataframe\">\n",
       "  <thead>\n",
       "    <tr style=\"text-align: right;\">\n",
       "      <th></th>\n",
       "      <th>Common name</th>\n",
       "      <th>Page</th>\n",
       "      <th>Species name</th>\n",
       "      <th>Cultivar list</th>\n",
       "    </tr>\n",
       "  </thead>\n",
       "  <tbody>\n",
       "    <tr>\n",
       "      <th>2</th>\n",
       "      <td>Chinese quince</td>\n",
       "      <td>/wiki/Chinese_quince</td>\n",
       "      <td>Pseudocydonia sinensis</td>\n",
       "      <td></td>\n",
       "    </tr>\n",
       "    <tr>\n",
       "      <th>2</th>\n",
       "      <td>Acerola</td>\n",
       "      <td>/wiki/Acerola</td>\n",
       "      <td>Malpighia emarginata</td>\n",
       "      <td></td>\n",
       "    </tr>\n",
       "    <tr>\n",
       "      <th>2</th>\n",
       "      <td>Amanatsu</td>\n",
       "      <td>/wiki/Amanatsu</td>\n",
       "      <td>Citrus × natsudaidai</td>\n",
       "      <td></td>\n",
       "    </tr>\n",
       "    <tr>\n",
       "      <th>2</th>\n",
       "      <td>Amazon grape</td>\n",
       "      <td>/wiki/Amazon_grape</td>\n",
       "      <td>Pourouma cecropiifolia</td>\n",
       "      <td></td>\n",
       "    </tr>\n",
       "    <tr>\n",
       "      <th>2</th>\n",
       "      <td>Canary melon</td>\n",
       "      <td>/wiki/Canary_melon</td>\n",
       "      <td>Cucumis melo var. inodorus'Canary Melon'</td>\n",
       "      <td></td>\n",
       "    </tr>\n",
       "  </tbody>\n",
       "</table>\n",
       "</div>"
      ],
      "text/plain": [
       "      Common name                  Page  \\\n",
       "2  Chinese quince  /wiki/Chinese_quince   \n",
       "2         Acerola         /wiki/Acerola   \n",
       "2        Amanatsu        /wiki/Amanatsu   \n",
       "2    Amazon grape    /wiki/Amazon_grape   \n",
       "2    Canary melon    /wiki/Canary_melon   \n",
       "\n",
       "                               Species name Cultivar list  \n",
       "2                    Pseudocydonia sinensis                \n",
       "2                      Malpighia emarginata                \n",
       "2                      Citrus × natsudaidai                \n",
       "2                    Pourouma cecropiifolia                \n",
       "2  Cucumis melo var. inodorus'Canary Melon'                "
      ]
     },
     "execution_count": 349,
     "metadata": {},
     "output_type": "execute_result"
    }
   ],
   "source": [
    "all_edible_fruits.loc[all_edible_fruits.index[1]].head()"
   ]
  },
  {
   "cell_type": "code",
   "execution_count": 350,
   "metadata": {},
   "outputs": [],
   "source": [
    "all_edible_fruits = all_edible_fruits.reset_index()\n",
    "all_edible_fruits.drop('index',axis=1,inplace=True)"
   ]
  },
  {
   "cell_type": "code",
   "execution_count": 351,
   "metadata": {},
   "outputs": [
    {
     "data": {
      "text/plain": [
       "(419, 4)"
      ]
     },
     "execution_count": 351,
     "metadata": {},
     "output_type": "execute_result"
    }
   ],
   "source": [
    "all_edible_fruits.drop(all_edible_fruits.index[all_edible_fruits['Page'] == '']).shape"
   ]
  },
  {
   "cell_type": "code",
   "execution_count": 352,
   "metadata": {},
   "outputs": [
    {
     "data": {
      "text/html": [
       "<div>\n",
       "<style scoped>\n",
       "    .dataframe tbody tr th:only-of-type {\n",
       "        vertical-align: middle;\n",
       "    }\n",
       "\n",
       "    .dataframe tbody tr th {\n",
       "        vertical-align: top;\n",
       "    }\n",
       "\n",
       "    .dataframe thead th {\n",
       "        text-align: right;\n",
       "    }\n",
       "</style>\n",
       "<table border=\"1\" class=\"dataframe\">\n",
       "  <thead>\n",
       "    <tr style=\"text-align: right;\">\n",
       "      <th></th>\n",
       "      <th>Common name</th>\n",
       "      <th>Page</th>\n",
       "      <th>Species name</th>\n",
       "      <th>Cultivar list</th>\n",
       "    </tr>\n",
       "  </thead>\n",
       "  <tbody>\n",
       "    <tr>\n",
       "      <th>410</th>\n",
       "      <td>Saguaro fruit</td>\n",
       "      <td>/wiki/Carnegiea_gigantea</td>\n",
       "      <td>Carnegiea gigantea</td>\n",
       "      <td></td>\n",
       "    </tr>\n",
       "  </tbody>\n",
       "</table>\n",
       "</div>"
      ],
      "text/plain": [
       "       Common name                      Page        Species name Cultivar list\n",
       "410  Saguaro fruit  /wiki/Carnegiea_gigantea  Carnegiea gigantea              "
      ]
     },
     "execution_count": 352,
     "metadata": {},
     "output_type": "execute_result"
    }
   ],
   "source": [
    "all_edible_fruits.loc[all_edible_fruits['Common name'] == 'Saguaro fruit']"
   ]
  },
  {
   "cell_type": "markdown",
   "metadata": {},
   "source": [
    "###### Get the data using Wikipedia API"
   ]
  },
  {
   "cell_type": "code",
   "execution_count": 353,
   "metadata": {},
   "outputs": [],
   "source": [
    "def get_wiki_url(end_point):\n",
    "    return WIKIPEDIA_API_URL + f'?action=parse&format=json&page={end_point.split(\"/\")[-1]}'\n",
    "    #return 'https://en.wikipedia.org' + end_point"
   ]
  },
  {
   "cell_type": "code",
   "execution_count": 354,
   "metadata": {},
   "outputs": [],
   "source": [
    "def get_child_pages(end_points):\n",
    "\n",
    "    massive_text = \"\"\n",
    "    for ep in end_points:\n",
    "        url =get_wiki_url(ep)\n",
    "        print(url)\n",
    "        response = requests.get(url)\n",
    "        if response.status_code != 200:\n",
    "            print (\"Get Failed\") # Only report if any failures\n",
    "        \n",
    "        jresponse = json.loads(response.text)\n",
    "        \n",
    "        if 'parse' in jresponse:\n",
    "            #print(jresponse['parse'].keys())\n",
    "            #print(jresponse['parse']['text']['*'])\n",
    "            massive_text += bs4.BeautifulSoup(jresponse['parse']['text']['*']).get_text()\n",
    "    \n",
    "    return massive_text"
   ]
  },
  {
   "cell_type": "code",
   "execution_count": 355,
   "metadata": {},
   "outputs": [
    {
     "name": "stdout",
     "output_type": "stream",
     "text": [
      "https://en.wikipedia.org/w/api.php?action=parse&format=json&page=Chinese_quince\n"
     ]
    }
   ],
   "source": [
    "massive_text = get_child_pages(all_edible_fruits['Page'][1:2])"
   ]
  },
  {
   "cell_type": "markdown",
   "metadata": {
    "slideshow": {
     "slide_type": "slide"
    }
   },
   "source": [
    "```\n",
    "stopwords = set(STOPWORDS)\n",
    "# instantiate a word cloud object\n",
    "response_wc = WordCloud(\n",
    "    background_color='white',\n",
    "    max_words=2000,\n",
    "    stopwords=stopwords\n",
    ")\n",
    "\n",
    "# generate the word cloud\n",
    "response_wc.generate(massive_text)```"
   ]
  },
  {
   "cell_type": "markdown",
   "metadata": {},
   "source": [
    "```\n",
    "fig = plt.figure()\n",
    "fig.set_figwidth(14)\n",
    "fig.set_figheight(18)\n",
    "plt.imshow(response_wc, interpolation='bilinear')\n",
    "\n",
    "plt.axis('off')\n",
    "plt.show()\n",
    "```"
   ]
  }
 ],
 "metadata": {
  "kernelspec": {
   "display_name": "Python 3",
   "language": "python",
   "name": "python3"
  },
  "language_info": {
   "codemirror_mode": {
    "name": "ipython",
    "version": 3
   },
   "file_extension": ".py",
   "mimetype": "text/x-python",
   "name": "python",
   "nbconvert_exporter": "python",
   "pygments_lexer": "ipython3",
   "version": "3.6.3"
  }
 },
 "nbformat": 4,
 "nbformat_minor": 2
}

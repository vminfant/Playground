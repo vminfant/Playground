{
 "cells": [
  {
   "cell_type": "markdown",
   "metadata": {},
   "source": [
    "## Monty Hall Problem using Relative Frequency Approach"
   ]
  },
  {
   "cell_type": "markdown",
   "metadata": {},
   "source": [
    "* Generate Random samples"
   ]
  },
  {
   "cell_type": "markdown",
   "metadata": {},
   "source": [
    "###### Import libraries"
   ]
  },
  {
   "cell_type": "code",
   "execution_count": 3,
   "metadata": {},
   "outputs": [],
   "source": [
    "import random\n",
    "from datetime import datetime \n",
    "import calendar\n",
    "import numpy as np\n",
    "import pandas as pd\n",
    "import seaborn as sns\n",
    "import matplotlib.pyplot as plt\n",
    "%matplotlib inline\n",
    "sns.set()"
   ]
  },
  {
   "cell_type": "markdown",
   "metadata": {},
   "source": [
    "###### Constants "
   ]
  },
  {
   "cell_type": "code",
   "execution_count": 4,
   "metadata": {},
   "outputs": [],
   "source": [
    "NO_OF_DOORS = 3\n",
    "TRAILS = 1000"
   ]
  },
  {
   "cell_type": "markdown",
   "metadata": {},
   "source": [
    "###### Build a gift behind one of the doors"
   ]
  },
  {
   "cell_type": "code",
   "execution_count": 5,
   "metadata": {},
   "outputs": [],
   "source": [
    "def build_gift():\n",
    "    return random.randint(1,NO_OF_DOORS)"
   ]
  },
  {
   "cell_type": "markdown",
   "metadata": {},
   "source": [
    "###### Choose a random door at first"
   ]
  },
  {
   "cell_type": "code",
   "execution_count": 6,
   "metadata": {},
   "outputs": [],
   "source": [
    "def choose_door():\n",
    "    return random.randint(1,NO_OF_DOORS)"
   ]
  },
  {
   "cell_type": "markdown",
   "metadata": {},
   "source": [
    "###### Open a door other than the chosen one"
   ]
  },
  {
   "cell_type": "code",
   "execution_count": 7,
   "metadata": {},
   "outputs": [],
   "source": [
    "def open_door(doors,chosen,gift_pos):\n",
    "    available_doors = [x for x in doors if x != chosen and x != gift_pos]\n",
    "    return random.choice(available_doors)"
   ]
  },
  {
   "cell_type": "markdown",
   "metadata": {},
   "source": [
    "###### Alter a decision"
   ]
  },
  {
   "cell_type": "code",
   "execution_count": 8,
   "metadata": {},
   "outputs": [],
   "source": [
    "def alter_or_stay():\n",
    "    return random.randint(0,1)"
   ]
  },
  {
   "cell_type": "code",
   "execution_count": 9,
   "metadata": {},
   "outputs": [],
   "source": [
    "def alter_door(available_doors):\n",
    "    return random.choice(available_doors)"
   ]
  },
  {
   "cell_type": "markdown",
   "metadata": {},
   "source": [
    "###### Play a game\n",
    " * Generate random birth days for n adults\n",
    " * *__adults_birthdays__* will maintain \"month_day\" as a key and the number of occurence as value for a particular trail "
   ]
  },
  {
   "cell_type": "code",
   "execution_count": 10,
   "metadata": {
    "scrolled": true
   },
   "outputs": [],
   "source": [
    "def play_game(doors):\n",
    "    \n",
    "    gift_pos = build_gift()\n",
    "    #print ('gift_pos',gift_pos)\n",
    "    chosen = choose_door()\n",
    "    #print ('chosen',chosen)\n",
    "    opened = open_door(doors,chosen,gift_pos)\n",
    "    #print ('opened',opened)\n",
    "    doors.remove(opened)\n",
    "    #print ('doors',doors)\n",
    "    decision = alter_or_stay()\n",
    "    #print ('decision',decision)\n",
    "    if decision:\n",
    "        doors.remove(chosen)\n",
    "        chosen = doors[0]\n",
    "        #print ('chosen',chosen)\n",
    "    #print (\"final : \",decision,int(chosen == gift_pos))\n",
    "    return decision,int(chosen == gift_pos)"
   ]
  },
  {
   "cell_type": "code",
   "execution_count": 11,
   "metadata": {},
   "outputs": [
    {
     "data": {
      "text/plain": [
       "(0, 1)"
      ]
     },
     "execution_count": 11,
     "metadata": {},
     "output_type": "execute_result"
    }
   ],
   "source": [
    "play_game(list(range(1,NO_OF_DOORS+1))[:])"
   ]
  },
  {
   "cell_type": "markdown",
   "metadata": {},
   "source": [
    "###### Run trails for a given inputs"
   ]
  },
  {
   "cell_type": "code",
   "execution_count": 18,
   "metadata": {},
   "outputs": [],
   "source": [
    "def run_trails(trails=TRAILS):\n",
    "    \n",
    "    doors = list(range(1,NO_OF_DOORS+1))\n",
    "    alter_results = {}\n",
    "    stay_results = {}\n",
    "    alter_won = 0\n",
    "    stay_won = 0\n",
    "    alter_count = 0\n",
    "    stay_count = 0\n",
    "    for trail in range(1,trails+1):\n",
    "        decision,status = play_game(doors[:])\n",
    "        if decision:\n",
    "            alter_count += 1\n",
    "            if status:\n",
    "                alter_won += 1\n",
    "                \n",
    "            alter_results[alter_count] = [(alter_won/alter_count)*100]\n",
    "        if not decision:\n",
    "            stay_count += 1\n",
    "            if status:\n",
    "                stay_won += 1\n",
    "            stay_results[stay_count] = [(stay_won/stay_count)*100]\n",
    "        \n",
    "    print (stay_count)\n",
    "    print ((alter_won/alter_count)*100)\n",
    "    print ((stay_won/stay_count)*100)\n",
    "    return alter_results,stay_results"
   ]
  },
  {
   "cell_type": "markdown",
   "metadata": {},
   "source": [
    "##### Run 10000 trails"
   ]
  },
  {
   "cell_type": "code",
   "execution_count": 45,
   "metadata": {
    "scrolled": true
   },
   "outputs": [
    {
     "name": "stdout",
     "output_type": "stream",
     "text": [
      "6\n",
      "50.0\n",
      "33.33333333333333\n"
     ]
    }
   ],
   "source": [
    "alter_results,stay_results = run_trails(trails=10)"
   ]
  },
  {
   "cell_type": "code",
   "execution_count": 46,
   "metadata": {},
   "outputs": [],
   "source": [
    "alter_trails_df = pd.DataFrame.from_dict(alter_results,orient='index').reset_index()\n",
    "alter_trails_df.columns = ['trail','alter_prob']"
   ]
  },
  {
   "cell_type": "code",
   "execution_count": 47,
   "metadata": {},
   "outputs": [
    {
     "data": {
      "image/png": "[encoded data removed]",
      "text/plain": [
       "<Figure size 1152x432 with 1 Axes>"
      ]
     },
     "metadata": {
      "needs_background": "light"
     },
     "output_type": "display_data"
    }
   ],
   "source": [
    "plt.figure(figsize=(16, 6))\n",
    "ax_ps = sns.lineplot(x=\"trail\", y=\"alter_prob\", color=\"green\",data=alter_trails_df)"
   ]
  },
  {
   "cell_type": "code",
   "execution_count": 48,
   "metadata": {},
   "outputs": [],
   "source": [
    "stay_trails_df = pd.DataFrame.from_dict(stay_results,orient='index').reset_index()\n",
    "stay_trails_df.columns = ['trail','stay_prob']"
   ]
  },
  {
   "cell_type": "code",
   "execution_count": 49,
   "metadata": {},
   "outputs": [
    {
     "data": {
      "image/png": "[encoded data removed]",
      "text/plain": [
       "<Figure size 1152x432 with 1 Axes>"
      ]
     },
     "metadata": {
      "needs_background": "light"
     },
     "output_type": "display_data"
    }
   ],
   "source": [
    "plt.figure(figsize=(16, 6))\n",
    "ax_pns = sns.lineplot(x=\"trail\", y=\"stay_prob\", color=\"orange\",data=stay_trails_df)"
   ]
  }
 ],
 "metadata": {
  "kernelspec": {
   "display_name": "Python 3",
   "language": "python",
   "name": "python3"
  },
  "language_info": {
   "codemirror_mode": {
    "name": "ipython",
    "version": 3
   },
   "file_extension": ".py",
   "mimetype": "text/x-python",
   "name": "python",
   "nbconvert_exporter": "python",
   "pygments_lexer": "ipython3",
   "version": "3.6.3"
  }
 },
 "nbformat": 4,
 "nbformat_minor": 2
}

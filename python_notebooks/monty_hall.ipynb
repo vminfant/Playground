{
 "cells": [
  {
   "cell_type": "markdown",
   "metadata": {},
   "source": [
    "## Monty Hall Problem using Relative Frequency Approach"
   ]
  },
  {
   "cell_type": "markdown",
   "metadata": {},
   "source": [
    "#### Problem\n",
    "* You're given the choice of three doors\n",
    "* There is a valulable gift behind one door & a goat behind other two doors.\n",
    "* You pick a door & host opens one of the door that doesn't have a gift.\n",
    "* You are given an option to Stay with your decision or Switch. \n",
    "\n",
    "**What is the probability that a person wins a gift if he/she switch or stay?** "
   ]
  },
  {
   "cell_type": "markdown",
   "metadata": {},
   "source": [
    "###### Import libraries"
   ]
  },
  {
   "cell_type": "code",
   "execution_count": 2,
   "metadata": {},
   "outputs": [],
   "source": [
    "import random\n",
    "import numpy as np\n",
    "import pandas as pd\n",
    "import seaborn as sns\n",
    "import matplotlib.pyplot as plt\n",
    "%matplotlib inline\n",
    "sns.set()"
   ]
  },
  {
   "cell_type": "markdown",
   "metadata": {},
   "source": [
    "###### Constants "
   ]
  },
  {
   "cell_type": "code",
   "execution_count": 20,
   "metadata": {},
   "outputs": [],
   "source": [
    "NO_OF_DOORS = 3\n",
    "TRAILS = 100000"
   ]
  },
  {
   "cell_type": "markdown",
   "metadata": {},
   "source": [
    "###### Build a gift behind one of the doors"
   ]
  },
  {
   "cell_type": "code",
   "execution_count": 4,
   "metadata": {},
   "outputs": [],
   "source": [
    "def build_gift():\n",
    "    return random.randint(1,NO_OF_DOORS)"
   ]
  },
  {
   "cell_type": "markdown",
   "metadata": {},
   "source": [
    "###### Choose a random door"
   ]
  },
  {
   "cell_type": "code",
   "execution_count": 5,
   "metadata": {},
   "outputs": [],
   "source": [
    "def choose_door():\n",
    "    return random.randint(1,NO_OF_DOORS)"
   ]
  },
  {
   "cell_type": "markdown",
   "metadata": {},
   "source": [
    "###### Open a door other than the chosen & gift door"
   ]
  },
  {
   "cell_type": "code",
   "execution_count": 6,
   "metadata": {},
   "outputs": [],
   "source": [
    "def open_door(doors,chosen,gift_pos):\n",
    "    available_doors = [x for x in doors if x != chosen and x != gift_pos]\n",
    "    return random.choice(available_doors)"
   ]
  },
  {
   "cell_type": "markdown",
   "metadata": {},
   "source": [
    "###### Decision after opening one of the door."
   ]
  },
  {
   "cell_type": "code",
   "execution_count": 7,
   "metadata": {},
   "outputs": [],
   "source": [
    "def alter_or_stay():\n",
    "    return random.randint(0,1)"
   ]
  },
  {
   "cell_type": "markdown",
   "metadata": {},
   "source": [
    "###### Play a game\n",
    " * Build a door with a gift \n",
    " * Choose a door (Participant's choice)\n",
    " * Open a door other than the chosen one and gift door\n",
    " * Decision Step (Participant's choice to Switch or Stay)\n",
    " * Produce final result"
   ]
  },
  {
   "cell_type": "code",
   "execution_count": 8,
   "metadata": {
    "scrolled": true
   },
   "outputs": [],
   "source": [
    "def play_game(doors):\n",
    "    \n",
    "    gift_pos = build_gift()\n",
    "    chosen = choose_door()\n",
    "    opened = open_door(doors,chosen,gift_pos)\n",
    "    doors.remove(opened)\n",
    "    decision = alter_or_stay()\n",
    "    if decision:\n",
    "        doors.remove(chosen)\n",
    "        chosen = doors[0]\n",
    "    return decision,int(chosen == gift_pos)"
   ]
  },
  {
   "cell_type": "markdown",
   "metadata": {},
   "source": [
    "###### Run trails & calculate the winning % after each trail"
   ]
  },
  {
   "cell_type": "code",
   "execution_count": 32,
   "metadata": {},
   "outputs": [],
   "source": [
    "def run_trails(trails=TRAILS):\n",
    "    \n",
    "    doors = list(range(1,NO_OF_DOORS+1))\n",
    "    alter_results = {}\n",
    "    stay_results = {}\n",
    "    alter_won = 0\n",
    "    stay_won = 0\n",
    "    alter_count = 0\n",
    "    stay_count = 0\n",
    "    for trail in range(1,trails+1):\n",
    "        decision,status = play_game(doors[:])\n",
    "        if decision:\n",
    "            alter_count += 1\n",
    "            if status:\n",
    "                alter_won += 1\n",
    "                \n",
    "            alter_results[alter_count] = [(alter_won/alter_count)*100]\n",
    "        if not decision:\n",
    "            stay_count += 1\n",
    "            if status:\n",
    "                stay_won += 1\n",
    "            stay_results[stay_count] = [(stay_won/stay_count)*100]\n",
    "        \n",
    "    print (f\"Probability of winning if a person choose to Switch the decision is {(alter_won/alter_count)*100:2.2f}\")\n",
    "    print (f\"Probability of winning if a person choose to Stay with the decision is {(stay_won/stay_count)*100:2.2f}\")\n",
    "    return alter_results,stay_results"
   ]
  },
  {
   "cell_type": "markdown",
   "metadata": {},
   "source": [
    "##### Run 100000 trails"
   ]
  },
  {
   "cell_type": "code",
   "execution_count": 33,
   "metadata": {
    "scrolled": true
   },
   "outputs": [
    {
     "name": "stdout",
     "output_type": "stream",
     "text": [
      "Probability of winning if a person choose to Switch the decision is 66.97\n",
      "Probability of winning if a person choose to Stay with the decision is 33.33\n"
     ]
    }
   ],
   "source": [
    "alter_results,stay_results = run_trails()"
   ]
  },
  {
   "cell_type": "code",
   "execution_count": 25,
   "metadata": {},
   "outputs": [],
   "source": [
    "alter_trails_df = pd.DataFrame.from_dict(alter_results,orient='index').reset_index()\n",
    "alter_trails_df.columns = ['trail','alter_prob']"
   ]
  },
  {
   "cell_type": "code",
   "execution_count": 26,
   "metadata": {},
   "outputs": [
    {
     "data": {
      "image/png": "[encoded data removed]",
      "text/plain": [
       "<Figure size 1152x432 with 1 Axes>"
      ]
     },
     "metadata": {
      "needs_background": "light"
     },
     "output_type": "display_data"
    }
   ],
   "source": [
    "plt.figure(figsize=(16, 6))\n",
    "ax_ps = sns.lineplot(x=\"trail\", y=\"alter_prob\", color=\"green\",data=alter_trails_df)"
   ]
  },
  {
   "cell_type": "code",
   "execution_count": 27,
   "metadata": {},
   "outputs": [],
   "source": [
    "stay_trails_df = pd.DataFrame.from_dict(stay_results,orient='index').reset_index()\n",
    "stay_trails_df.columns = ['trail','stay_prob']"
   ]
  },
  {
   "cell_type": "code",
   "execution_count": 28,
   "metadata": {
    "scrolled": true
   },
   "outputs": [
    {
     "data": {
      "image/png": "[encoded data removed]",
      "text/plain": [
       "<Figure size 1152x432 with 1 Axes>"
      ]
     },
     "metadata": {
      "needs_background": "light"
     },
     "output_type": "display_data"
    }
   ],
   "source": [
    "plt.figure(figsize=(16, 6))\n",
    "ax_pns = sns.lineplot(x=\"trail\", y=\"stay_prob\", color=\"orange\",data=stay_trails_df)"
   ]
  },
  {
   "cell_type": "markdown",
   "metadata": {},
   "source": [
    "#### Other trails\n",
    "```\n",
    "alter_results,stay_results = run_trails(trails=1000)\n",
    "\n",
    "Probability of winning if a person choose to Switch the decision is 64.55\n",
    "Probability of winning if a person choose to Stay with the decision is 32.60\n",
    "\n",
    "alter_results,stay_results = run_trails(trails=10000)\n",
    "\n",
    "Probability of winning if a person choose to Switch the decision is 67.09\n",
    "Probability of winning if a person choose to Stay with the decision is 34.13\n",
    "\n",
    "alter_results,stay_results = run_trails(trails=100000)\n",
    "\n",
    "Probability of winning if a person choose to Switch the decision is 66.86\n",
    "Probability of winning if a person choose to Stay with the decision is 33.16\n",
    "```"
   ]
  }
 ],
 "metadata": {
  "kernelspec": {
   "display_name": "Python 3",
   "language": "python",
   "name": "python3"
  },
  "language_info": {
   "codemirror_mode": {
    "name": "ipython",
    "version": 3
   },
   "file_extension": ".py",
   "mimetype": "text/x-python",
   "name": "python",
   "nbconvert_exporter": "python",
   "pygments_lexer": "ipython3",
   "version": "3.6.3"
  }
 },
 "nbformat": 4,
 "nbformat_minor": 2
}

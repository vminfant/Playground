{
 "cells": [
  {
   "cell_type": "code",
   "execution_count": 3,
   "metadata": {},
   "outputs": [],
   "source": [
    "import numpy as np"
   ]
  },
  {
   "cell_type": "markdown",
   "metadata": {},
   "source": [
    "### Vectors"
   ]
  },
  {
   "cell_type": "markdown",
   "metadata": {},
   "source": [
    "A vector is an ordered list of number.\n",
    "\n",
    "#### Representation\n",
    "\n",
    "$ \\vec{v} = \\langle a,b\\rangle $\n",
    "\n",
    "* $ a $ & $ b $ are elements or components of a vector $ \\vec{v} $ \n",
    "* $ \\vec{v} \\in \\mathbb{R}^2 $"
   ]
  },
  {
   "cell_type": "markdown",
   "metadata": {},
   "source": [
    "#### Example\n",
    "\n",
    "$ \\vec{v} = \\langle 1,2 \\rangle $\n",
    "\n",
    "#### Geometrical representation"
   ]
  },
  {
   "cell_type": "markdown",
   "metadata": {},
   "source": [
    "![Vector Representation](images/vector_representation.png)"
   ]
  },
  {
   "cell_type": "markdown",
   "metadata": {},
   "source": [
    "#### Pythonic way"
   ]
  },
  {
   "cell_type": "code",
   "execution_count": 4,
   "metadata": {},
   "outputs": [
    {
     "name": "stdout",
     "output_type": "stream",
     "text": [
      "Vector v = [1 2]\n"
     ]
    }
   ],
   "source": [
    "v = np.array([1,2])\n",
    "print(f'Vector v = {v}')"
   ]
  },
  {
   "cell_type": "markdown",
   "metadata": {},
   "source": [
    "#### Notes\n",
    "* if the vector's initial point is Origin, then it is said to be in `Standard Position` "
   ]
  },
  {
   "cell_type": "markdown",
   "metadata": {},
   "source": [
    "### Vector Operations\n",
    "\n",
    "* Scalar Multiplication"
   ]
  },
  {
   "cell_type": "markdown",
   "metadata": {},
   "source": [
    "#### Scalar Multiplication\n",
    "\n",
    "$ c\\vec{v} $ \n",
    "* $ c \\in \\mathbb{R} $, $ \\vec{v} \\in \\mathbb{R}^2 $"
   ]
  },
  {
   "cell_type": "markdown",
   "metadata": {},
   "source": [
    "#### Operation"
   ]
  },
  {
   "cell_type": "markdown",
   "metadata": {},
   "source": [
    "$ c\\vec{v} = c\\langle a,b\\rangle = \\langle c.a,c.b \\rangle $ "
   ]
  },
  {
   "cell_type": "markdown",
   "metadata": {},
   "source": [
    "#### Example "
   ]
  },
  {
   "cell_type": "markdown",
   "metadata": {},
   "source": [
    "$ \\vec{v} = \\langle 1,2\\rangle $\n",
    "\n",
    "$ c = 2 $ \n",
    "\n",
    "$ c\\vec{v} = \\langle 2,4 \\rangle $ "
   ]
  },
  {
   "cell_type": "markdown",
   "metadata": {},
   "source": [
    "#### Geometrical representation\n",
    "\n",
    "* Multiplying a vector with a scalar value will stretch a vector by the scalar value. (Green indicates a original vector & Red indicates a stretch by 2) \n",
    "\n",
    "Example, $ c\\vec{v} = \\langle 2,4 \\rangle $"
   ]
  },
  {
   "cell_type": "markdown",
   "metadata": {},
   "source": [
    "![Scalar Multiplication](images/02_vector_scalar_multiplication.png)"
   ]
  },
  {
   "cell_type": "markdown",
   "metadata": {},
   "source": [
    "#### Pythonic way"
   ]
  },
  {
   "cell_type": "code",
   "execution_count": 5,
   "metadata": {},
   "outputs": [
    {
     "name": "stdout",
     "output_type": "stream",
     "text": [
      "Vector cv = [2 4]\n"
     ]
    }
   ],
   "source": [
    "cv = 2 * v # Scalar value is 2 \n",
    "print(f'Vector cv = {cv}')"
   ]
  },
  {
   "cell_type": "markdown",
   "metadata": {},
   "source": [
    "#### Properties of scalar-vector multiplication. \n",
    "* associative\n",
    "* distributive \n"
   ]
  }
 ],
 "metadata": {
  "kernelspec": {
   "display_name": "Python 3",
   "language": "python",
   "name": "python3"
  },
  "language_info": {
   "codemirror_mode": {
    "name": "ipython",
    "version": 3
   },
   "file_extension": ".py",
   "mimetype": "text/x-python",
   "name": "python",
   "nbconvert_exporter": "python",
   "pygments_lexer": "ipython3",
   "version": "3.6.3"
  }
 },
 "nbformat": 4,
 "nbformat_minor": 2
}

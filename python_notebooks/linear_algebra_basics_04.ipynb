{
 "cells": [
  {
   "cell_type": "markdown",
   "metadata": {},
   "source": [
    "# Matrix"
   ]
  },
  {
   "cell_type": "markdown",
   "metadata": {},
   "source": [
    "Matrix is a two dimensional array of numbers."
   ]
  },
  {
   "cell_type": "markdown",
   "metadata": {},
   "source": [
    "###### Representation\n",
    "\n",
    "$\n",
    "A_{mxn} = \\begin{bmatrix}\n",
    "a_{11} &a_{12} &a_{13} &\\dots &a_{1n} \\\\ \n",
    "a_{21} &a_{22} &a_{23} &\\dots &a_{2n} \\\\\n",
    "a_{31} &a_{32} &a_{34} &\\dots &a_{3n} \\\\\n",
    "\\vdots  &\\vdots &\\vdots &\\ddots &\\vdots \\\\\n",
    "a_{m1} &a_{m2} &a_{m3} &\\dots &a_{mn} \\\\\n",
    "\\end{bmatrix}\n",
    "{;}  A_{mxn} \\in R^{mxn} $\n",
    "\n",
    "* Capital letters are used to denote a Matrix\n",
    "* $ m $ represents a number of rows \n",
    "* $ n $ represents a number of columns\n",
    "\n",
    "**__Examples__**\n",
    "\n",
    "$\n",
    "A_{2x2} = \\begin{bmatrix}\n",
    "1 &2 \\\\\n",
    "4 &6\n",
    "\\end{bmatrix}\n",
    "$ \n",
    "\n",
    "This is also called **Square Matrix**. (if the number of columns & number of rows are equal, it is called **Square Matrix**)\n",
    "\n",
    "$\n",
    "A_{3x2} = \\begin{bmatrix}\n",
    "1 &2 \\\\\n",
    "4 &6 \\\\\n",
    "8 &10\n",
    "\\end{bmatrix}\n",
    "$"
   ]
  },
  {
   "cell_type": "code",
   "execution_count": null,
   "metadata": {},
   "outputs": [],
   "source": []
  }
 ],
 "metadata": {
  "kernelspec": {
   "display_name": "Python 3",
   "language": "python",
   "name": "python3"
  },
  "language_info": {
   "codemirror_mode": {
    "name": "ipython",
    "version": 3
   },
   "file_extension": ".py",
   "mimetype": "text/x-python",
   "name": "python",
   "nbconvert_exporter": "python",
   "pygments_lexer": "ipython3",
   "version": "3.6.3"
  }
 },
 "nbformat": 4,
 "nbformat_minor": 2
}
